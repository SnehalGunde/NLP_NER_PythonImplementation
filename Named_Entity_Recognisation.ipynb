{
 "cells": [
  {
   "cell_type": "markdown",
   "id": "47b6a99f",
   "metadata": {},
   "source": [
    "# NER (Name Entity Recognisation): Python Demonstration"
   ]
  },
  {
   "cell_type": "code",
   "execution_count": 1,
   "id": "91c03794",
   "metadata": {},
   "outputs": [],
   "source": [
    "import spacy # import spacy module\n",
    "model = spacy.load(\"en_core_web_sm\") #load pre-trained model\n",
    "doc = \"Sumit is an adjunct faculty at Upgrad.\"\n",
    " \n",
    "processed_doc = model(doc); #process input and perform NLP tasks\n"
   ]
  },
  {
   "cell_type": "code",
   "execution_count": 2,
   "id": "bb617543",
   "metadata": {},
   "outputs": [
    {
     "name": "stdout",
     "output_type": "stream",
     "text": [
      "Sumit  --  NOUN\n",
      "is  --  AUX\n",
      "an  --  DET\n",
      "adjunct  --  ADJ\n",
      "faculty  --  NOUN\n",
      "at  --  ADP\n",
      "Upgrad  --  PROPN\n",
      ".  --  PUNCT\n"
     ]
    }
   ],
   "source": [
    "for ent in processed_doc:\n",
    "    print(ent.text, \" -- \", ent.pos_)"
   ]
  },
  {
   "cell_type": "code",
   "execution_count": 3,
   "id": "8ce26299",
   "metadata": {},
   "outputs": [
    {
     "name": "stdout",
     "output_type": "stream",
     "text": [
      "Upgrad  --  31  --  37  --  GPE\n"
     ]
    }
   ],
   "source": [
    "for ent in processed_doc.ents:\n",
    "    print(ent.text, \" -- \", ent.start_char, \" -- \", ent.end_char, \" -- \", ent.label_)"
   ]
  },
  {
   "cell_type": "code",
   "execution_count": 4,
   "id": "208b863c",
   "metadata": {},
   "outputs": [],
   "source": [
    "doc2 = \"Dr Sumit is an adjunct faculty at Upgrad.\""
   ]
  },
  {
   "cell_type": "code",
   "execution_count": 5,
   "id": "bd0c728e",
   "metadata": {},
   "outputs": [
    {
     "name": "stdout",
     "output_type": "stream",
     "text": [
      "Dr  --  PROPN\n",
      "Sumit  --  PROPN\n",
      "is  --  AUX\n",
      "an  --  DET\n",
      "adjunct  --  ADJ\n",
      "faculty  --  NOUN\n",
      "at  --  ADP\n",
      "Upgrad  --  PROPN\n",
      ".  --  PUNCT\n"
     ]
    }
   ],
   "source": [
    "processed_doc2 = model(doc2);\n",
    "for ent in processed_doc2:\n",
    "    print(ent.text, \" -- \", ent.pos_)"
   ]
  },
  {
   "cell_type": "code",
   "execution_count": 6,
   "id": "fbeb3212",
   "metadata": {},
   "outputs": [
    {
     "name": "stdout",
     "output_type": "stream",
     "text": [
      "Upgrad  --  34  --  40  --  GPE\n"
     ]
    }
   ],
   "source": [
    "for ent in processed_doc2.ents:\n",
    "    print(ent.text, \" -- \", ent.start_char, \" -- \", ent.end_char, \" -- \", ent.label_)"
   ]
  },
  {
   "cell_type": "code",
   "execution_count": 7,
   "id": "d5bcb83a",
   "metadata": {},
   "outputs": [
    {
     "name": "stdout",
     "output_type": "stream",
     "text": [
      "Statue  --  PROPN\n",
      "of  --  ADP\n",
      "Liberty  --  PROPN\n",
      "is  --  AUX\n",
      "situated  --  VERB\n",
      "in  --  ADP\n",
      "New  --  PROPN\n",
      "York  --  PROPN\n",
      ",  --  PUNCT\n",
      "USA  --  PROPN\n"
     ]
    }
   ],
   "source": [
    "doc3=\"Statue of Liberty is situated in New York, USA\"\n",
    "processed_doc3 = model(doc3);\n",
    "for ent in processed_doc3:\n",
    "    print(ent.text, \" -- \", ent.pos_)"
   ]
  },
  {
   "cell_type": "code",
   "execution_count": 8,
   "id": "3abdd95d",
   "metadata": {},
   "outputs": [
    {
     "name": "stdout",
     "output_type": "stream",
     "text": [
      "New York  --  33  --  41  --  GPE\n",
      "USA  --  43  --  46  --  GPE\n"
     ]
    }
   ],
   "source": [
    "for ent in processed_doc3.ents:\n",
    "    print(ent.text, \" -- \", ent.start_char, \" -- \", ent.end_char, \" -- \", ent.label_)"
   ]
  },
  {
   "cell_type": "code",
   "execution_count": 13,
   "id": "ef113725",
   "metadata": {},
   "outputs": [
    {
     "name": "stdout",
     "output_type": "stream",
     "text": [
      "Statue  --  O  --  \n",
      "of  --  O  --  \n",
      "Liberty  --  O  --  \n",
      "is  --  O  --  \n",
      "situated  --  O  --  \n",
      "in  --  O  --  \n",
      "New  --  B  --  GPE\n",
      "York  --  I  --  GPE\n",
      ",  --  O  --  \n",
      "USA  --  B  --  GPE\n"
     ]
    }
   ],
   "source": [
    "for ent in processed_doc3:\n",
    "    print(ent.text, \" -- \", ent.ent_iob_, \" -- \", ent.ent_type_)"
   ]
  },
  {
   "cell_type": "markdown",
   "id": "841446ae",
   "metadata": {},
   "source": [
    "- You can use spacy's NER model to identify named entities in input text.\n",
    "- You also studied some cases where the model is not able to correctly identify all the entities invovled.\n",
    "- There are various situations where systems make errors and depending on the appliation and the severity and types of errors, follow up corrective measures can be employed (manual validation, discarding erroneous outouts, using heuristics, etc.)"
   ]
  },
  {
   "cell_type": "markdown",
   "id": "8d786e69",
   "metadata": {},
   "source": [
    "## Example 1"
   ]
  },
  {
   "cell_type": "code",
   "execution_count": 19,
   "id": "785c2d61",
   "metadata": {},
   "outputs": [],
   "source": [
    "email = ('Dear Family, Jose Luis and I have changed our dates, we are '\n",
    "         'going to come to Aspen on the 23rd of December and leave on the '\n",
    "         '30th of December. We would like to stay in the front bedroom of '\n",
    "         'the Aspen Cottage so that Mark, Natalie and Zachary can stay in '\n",
    "         'the guest cottage. Please let me know if there are any problems '\n",
    "         'with this. If I do not hear anything, I will assume this is all '\n",
    "         'o.k. with you.'\n",
    "         'Love, Liz')"
   ]
  },
  {
   "cell_type": "code",
   "execution_count": 20,
   "id": "10afcc7d",
   "metadata": {},
   "outputs": [],
   "source": [
    "processed_email=model(email)# apply spacy's model to process email"
   ]
  },
  {
   "cell_type": "code",
   "execution_count": 21,
   "id": "0042604f",
   "metadata": {},
   "outputs": [],
   "source": [
    "anamolized_email= list(email)"
   ]
  },
  {
   "cell_type": "code",
   "execution_count": 22,
   "id": "1111df9c",
   "metadata": {},
   "outputs": [
    {
     "name": "stdout",
     "output_type": "stream",
     "text": [
      "\n",
      "\n",
      "-- After anonymization --\n",
      "\n"
     ]
    },
    {
     "data": {
      "text/plain": [
       "'Dear Family, ********* and I have changed our dates, we are going to come to Aspen on the 23rd of December and leave on the 30th of December. We would like to stay in the front bedroom of the Aspen Cottage so that Mark, Natalie and ******* can stay in the guest cottage. Please let me know if there are any problems with this. If I do not hear anything, I will assume this is all o.k. with you.Love, ***'"
      ]
     },
     "execution_count": 22,
     "metadata": {},
     "output_type": "execute_result"
    }
   ],
   "source": [
    "for ent in processed_email.ents:\n",
    "    if(ent.label_ == 'PERSON'):\n",
    "        for char_pos in range(ent.start_char, ent.end_char):\n",
    "            anamolized_email[char_pos]=\"*\"\n",
    "\n",
    "\n",
    "print('\\n\\n-- After anonymization --\\n')\n",
    "\"\".join(anamolized_email)"
   ]
  },
  {
   "cell_type": "markdown",
   "id": "60897b24",
   "metadata": {},
   "source": [
    "## Example 2"
   ]
  },
  {
   "cell_type": "code",
   "execution_count": 25,
   "id": "4ce4b039",
   "metadata": {},
   "outputs": [],
   "source": [
    "import spacy # import spacy module\n",
    "model = spacy.load(\"en_core_web_sm\") #load pre-trained model\n",
    "\n",
    "\n",
    "email = ('Dear Family, Jose Luis and I have changed our dates, we are '\n",
    "         'going to come to Aspen on the 23rd of December and leave on the '\n",
    "         '30th of December. We would like to stay in the front bedroom of '\n",
    "         'the Aspen Cottage so that Mark, Natalie and Zachary can stay in '\n",
    "         'the guest cottage. Please let me know if there are any problems '\n",
    "         'with this. If I do not hear anything, I will assume this is all '\n",
    "         'o.k. with you.'\n",
    "         'Love, Liz')\n",
    "processed_email = model(email) # Apply spacy's model to process the email\n",
    " \n",
    "anonymized_email = list(email) # initialize data structure to store anonymized email\n",
    " \n",
    "\n",
    "for ent in processed_email.ents:\n",
    "    if(ent.label_ == 'DATE'): \n",
    "        for char_pos in range(ent.start_char, ent.end_char): # use character positions\n",
    "            anonymized_email[char_pos] = '#'    \n",
    " \n"
   ]
  },
  {
   "cell_type": "code",
   "execution_count": 26,
   "id": "aa448880",
   "metadata": {},
   "outputs": [
    {
     "name": "stdout",
     "output_type": "stream",
     "text": [
      "\n",
      "\n",
      "-- After Anonymization--\n",
      "\n",
      "Dear Family, Jose Luis and I have changed our dates, we are going to come to Aspen on #################### and leave on ####################. We would like to stay in the front bedroom of the Aspen Cottage so that Mark, Natalie and Zachary can stay in the guest cottage. Please let me know if there are any problems with this. If I do not hear anything, I will assume this is all o.k. with you.Love, Liz\n"
     ]
    }
   ],
   "source": [
    "print(\"\\n\\n-- After Anonymization--\\n\")\n",
    "Anonymized_sentence = \"\".join(anonymized_email)\n",
    "print(Anonymized_sentence)"
   ]
  },
  {
   "cell_type": "code",
   "execution_count": null,
   "id": "a9d12980",
   "metadata": {},
   "outputs": [],
   "source": []
  }
 ],
 "metadata": {
  "kernelspec": {
   "display_name": "Python 3 (ipykernel)",
   "language": "python",
   "name": "python3"
  },
  "language_info": {
   "codemirror_mode": {
    "name": "ipython",
    "version": 3
   },
   "file_extension": ".py",
   "mimetype": "text/x-python",
   "name": "python",
   "nbconvert_exporter": "python",
   "pygments_lexer": "ipython3",
   "version": "3.7.11"
  }
 },
 "nbformat": 4,
 "nbformat_minor": 5
}
